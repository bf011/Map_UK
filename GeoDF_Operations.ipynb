{
  "cells": [
    {
      "cell_type": "markdown",
      "id": "f8746832",
      "metadata": {
        "id": "f8746832"
      },
      "source": [
        "<center><img src=\"https://i.imgur.com/zRrFdsf.png\" width=\"700\"></center>\n",
        "\n"
      ]
    },
    {
      "cell_type": "markdown",
      "id": "af76d2a2",
      "metadata": {
        "id": "af76d2a2"
      },
      "source": [
        "<a target=\"_blank\" href=\"https://colab.research.google.com/github/CienciaDeDatosEspacial/GeoDataFrame_SpatialOperation/blob/main/GeoDF_Operations.ipynb\">\n",
        "  <img src=\"https://colab.research.google.com/assets/colab-badge.svg\" alt=\"Open In Colab\"/>\n",
        "</a>\n",
        "\n",
        "# Basic spatial operations in  Geo Dataframes\n",
        "\n",
        "We will review some important operations for geodataframes."
      ]
    },
    {
      "cell_type": "markdown",
      "id": "244a5266",
      "metadata": {
        "id": "244a5266"
      },
      "source": [
        "Let's remember the contents of the world map from last session:\n",
        "\n",
        "<a class=\"anchor\" id=\"0\"></a>"
      ]
    },
    {
      "cell_type": "code",
      "execution_count": 2,
      "id": "f5bcb405-dfc6-4b14-8499-d9e42805336d",
      "metadata": {
        "id": "f5bcb405-dfc6-4b14-8499-d9e42805336d",
        "outputId": "62fd6565-26e8-45f4-955f-53de82d504c6",
        "colab": {
          "base_uri": "https://localhost:8080/",
          "height": 382
        }
      },
      "outputs": [
        {
          "output_type": "error",
          "ename": "ModuleNotFoundError",
          "evalue": "No module named 'fiona'",
          "traceback": [
            "\u001b[0;31m---------------------------------------------------------------------------\u001b[0m",
            "\u001b[0;31mModuleNotFoundError\u001b[0m                       Traceback (most recent call last)",
            "\u001b[0;32m<ipython-input-2-630b147d498c>\u001b[0m in \u001b[0;36m<cell line: 0>\u001b[0;34m()\u001b[0m\n\u001b[1;32m      3\u001b[0m \u001b[0;34m\u001b[0m\u001b[0m\n\u001b[1;32m      4\u001b[0m \u001b[0;32mimport\u001b[0m \u001b[0mgeopandas\u001b[0m \u001b[0;32mas\u001b[0m \u001b[0mgpd\u001b[0m\u001b[0;34m\u001b[0m\u001b[0;34m\u001b[0m\u001b[0m\n\u001b[0;32m----> 5\u001b[0;31m \u001b[0;32mfrom\u001b[0m  \u001b[0mfiona\u001b[0m \u001b[0;32mimport\u001b[0m \u001b[0mlistlayers\u001b[0m\u001b[0;34m\u001b[0m\u001b[0;34m\u001b[0m\u001b[0m\n\u001b[0m\u001b[1;32m      6\u001b[0m \u001b[0mlistlayers\u001b[0m\u001b[0;34m(\u001b[0m\u001b[0mlinkWorldMap\u001b[0m\u001b[0;34m)\u001b[0m\u001b[0;34m\u001b[0m\u001b[0;34m\u001b[0m\u001b[0m\n",
            "\u001b[0;31mModuleNotFoundError\u001b[0m: No module named 'fiona'",
            "",
            "\u001b[0;31m---------------------------------------------------------------------------\u001b[0;32m\nNOTE: If your import is failing due to a missing package, you can\nmanually install dependencies using either !pip or !apt.\n\nTo view examples of installing some common dependencies, click the\n\"Open Examples\" button below.\n\u001b[0;31m---------------------------------------------------------------------------\u001b[0m\n"
          ],
          "errorDetails": {
            "actions": [
              {
                "action": "open_url",
                "actionText": "Open Examples",
                "url": "/notebooks/snippets/importing_libraries.ipynb"
              }
            ]
          }
        }
      ],
      "source": [
        "linkWorldMap=\"https://github.com/CienciaDeDatosEspacial/intro_geodataframe/raw/main/maps/worldMaps.gpkg\"\n",
        "\n",
        "\n",
        "import geopandas as gpd\n",
        "from  fiona import listlayers\n",
        "listlayers(linkWorldMap)"
      ]
    },
    {
      "cell_type": "markdown",
      "id": "0ea5e97e-6d16-4803-a70e-f7d5982af275",
      "metadata": {
        "id": "0ea5e97e-6d16-4803-a70e-f7d5982af275"
      },
      "source": [
        "Let's open all the layers (this takes a minute):"
      ]
    },
    {
      "cell_type": "code",
      "execution_count": null,
      "id": "fad3435e-317c-49e5-ab61-ef7261c92cfe",
      "metadata": {
        "id": "fad3435e-317c-49e5-ab61-ef7261c92cfe"
      },
      "outputs": [],
      "source": [
        "countries=gpd.read_file(linkWorldMap,layer='countries')\n",
        "rivers=gpd.read_file(linkWorldMap,layer='rivers')\n",
        "cities=gpd.read_file(linkWorldMap,layer='cities')\n",
        "indicators=gpd.read_file(linkWorldMap,layer='indicators')"
      ]
    },
    {
      "cell_type": "markdown",
      "id": "c2fc940f",
      "metadata": {
        "id": "c2fc940f"
      },
      "source": [
        "\n",
        "\n",
        "Now, let's see some important spatial operations:\n",
        "\n",
        "1. [Subsetting](#1)\n",
        "2. [Combining GeoDF rows](#3)\n",
        "3. [The convex hull](#4)\n",
        "4. [Spatial Overlays](#5)\n",
        "5. [Checking Validity](#6)\n",
        "\n",
        "\n"
      ]
    },
    {
      "cell_type": "markdown",
      "id": "cbba7a88-a1b1-41d1-8aff-a1f912f964a9",
      "metadata": {
        "id": "cbba7a88-a1b1-41d1-8aff-a1f912f964a9"
      },
      "source": [
        "<a class=\"anchor\" id=\"1\"></a>\n",
        "\n",
        "# Subsetting\n",
        "\n",
        "## Filtering\n",
        "\n",
        "You can keep some elements by subsetting by *filtering*, as we used to do in common pandas data frames."
      ]
    },
    {
      "cell_type": "code",
      "execution_count": null,
      "id": "4ed1361d-8624-41eb-868c-0010ed9c9475",
      "metadata": {
        "id": "4ed1361d-8624-41eb-868c-0010ed9c9475"
      },
      "outputs": [],
      "source": [
        "countries.head()"
      ]
    },
    {
      "cell_type": "code",
      "execution_count": null,
      "id": "a41ade83-f334-4d7a-ae1d-61b66e6b5b92",
      "metadata": {
        "id": "a41ade83-f334-4d7a-ae1d-61b66e6b5b92"
      },
      "outputs": [],
      "source": [
        "# as DF\n",
        "countries.iloc[50:,]"
      ]
    },
    {
      "cell_type": "code",
      "execution_count": null,
      "id": "17e5a1bf-ee01-41b0-81f4-bfbc4657857c",
      "metadata": {
        "id": "17e5a1bf-ee01-41b0-81f4-bfbc4657857c"
      },
      "outputs": [],
      "source": [
        "# as DF\n",
        "countries.loc[50:,'geometry']"
      ]
    },
    {
      "cell_type": "markdown",
      "id": "6a3dfc54-46a0-4531-998c-3f11c9735fec",
      "metadata": {
        "id": "6a3dfc54-46a0-4531-998c-3f11c9735fec"
      },
      "source": [
        "But as a GeDF, you can also filter using a coordinate point via __cx__. Let me get the bounding box of the map:"
      ]
    },
    {
      "cell_type": "code",
      "execution_count": null,
      "id": "80f8a267-da8a-4831-be2b-7d83bac3c595",
      "metadata": {
        "id": "80f8a267-da8a-4831-be2b-7d83bac3c595"
      },
      "outputs": [],
      "source": [
        "countries.total_bounds"
      ]
    },
    {
      "cell_type": "markdown",
      "id": "66a83e6d-4073-44fc-8e07-b1ddabc5582a",
      "metadata": {
        "id": "66a83e6d-4073-44fc-8e07-b1ddabc5582a"
      },
      "source": [
        "As you are getting __[minx, miny, maxx, maxy]__ let me select a valid coordinate, i.e. (0,0)"
      ]
    },
    {
      "cell_type": "code",
      "execution_count": null,
      "id": "50632acb-1595-4207-927c-ee9b4d030b83",
      "metadata": {
        "id": "50632acb-1595-4207-927c-ee9b4d030b83"
      },
      "outputs": [],
      "source": [
        "countries.cx[:0,:0]"
      ]
    },
    {
      "cell_type": "code",
      "execution_count": null,
      "id": "27d0e4a1-8798-45ff-b122-e81b4f613100",
      "metadata": {
        "id": "27d0e4a1-8798-45ff-b122-e81b4f613100"
      },
      "outputs": [],
      "source": [
        "#then\n",
        "countries.cx[:0,:0].plot()"
      ]
    },
    {
      "cell_type": "markdown",
      "id": "1c44c596-e798-44d7-ba22-e24c00ae5044",
      "metadata": {
        "id": "1c44c596-e798-44d7-ba22-e24c00ae5044"
      },
      "source": [
        "Notice __cx__ would be cleaner if spatial element is a point."
      ]
    },
    {
      "cell_type": "markdown",
      "id": "be643505-1c8f-435c-b3ca-150aee9c4b3b",
      "metadata": {
        "id": "be643505-1c8f-435c-b3ca-150aee9c4b3b"
      },
      "source": [
        "## Clipping"
      ]
    },
    {
      "cell_type": "markdown",
      "id": "5b602bc2-9264-46ac-8b8a-b3a71514096e",
      "metadata": {
        "id": "5b602bc2-9264-46ac-8b8a-b3a71514096e"
      },
      "source": [
        "Let me keep one country:"
      ]
    },
    {
      "cell_type": "code",
      "execution_count": null,
      "id": "fa3fd88c-b4ee-42c2-8d79-5c4855534877",
      "metadata": {
        "id": "fa3fd88c-b4ee-42c2-8d79-5c4855534877"
      },
      "outputs": [],
      "source": [
        "brazil=countries[countries.COUNTRY=='Brazil']"
      ]
    },
    {
      "cell_type": "markdown",
      "id": "01e11a63-f60d-46b7-90b3-29f8e554227f",
      "metadata": {
        "id": "01e11a63-f60d-46b7-90b3-29f8e554227f"
      },
      "source": [
        "As we saw last week, we  can also subset by *clipping*, as sometimes other data frames may not have the same fields for filtering:"
      ]
    },
    {
      "cell_type": "code",
      "execution_count": null,
      "id": "39f32061-01f8-4459-ab57-b2e311838aba",
      "metadata": {
        "id": "39f32061-01f8-4459-ab57-b2e311838aba"
      },
      "outputs": [],
      "source": [
        "citiesBrazil_clipped = gpd.clip(gdf=cities,\n",
        "                          mask=brazil)\n",
        "riversBrazil_clipped = gpd.clip(gdf=rivers,\n",
        "                               mask=brazil)"
      ]
    },
    {
      "cell_type": "markdown",
      "id": "59424b3b-f335-47dd-8496-c4a7a5b7ee72",
      "metadata": {
        "id": "59424b3b-f335-47dd-8496-c4a7a5b7ee72"
      },
      "source": [
        "Then, you can plot the clipped version:"
      ]
    },
    {
      "cell_type": "code",
      "execution_count": null,
      "id": "4cc43012-dcc3-45b3-b31e-35bcb26cab94",
      "metadata": {
        "id": "4cc43012-dcc3-45b3-b31e-35bcb26cab94"
      },
      "outputs": [],
      "source": [
        "base = brazil.plot(facecolor=\"greenyellow\", edgecolor='black', linewidth=0.4,figsize=(5,5))\n",
        "citiesBrazil_clipped.plot(marker='+', color='red', markersize=15,\n",
        "                    ax=base)\n",
        "riversBrazil_clipped.plot(edgecolor='blue', linewidth=0.5,\n",
        "                    ax=base)"
      ]
    },
    {
      "cell_type": "markdown",
      "id": "a565103c-95a1-4adc-be79-99cf98d5d57b",
      "metadata": {
        "id": "a565103c-95a1-4adc-be79-99cf98d5d57b"
      },
      "source": [
        "The geometry types are not modified:"
      ]
    },
    {
      "cell_type": "code",
      "execution_count": null,
      "id": "0180a0cd-311b-43e4-a68a-2fe82f46b4a0",
      "metadata": {
        "id": "0180a0cd-311b-43e4-a68a-2fe82f46b4a0"
      },
      "outputs": [],
      "source": [
        "set(brazil.geom_type), set(citiesBrazil_clipped.geom_type), set(riversBrazil_clipped.geom_type)"
      ]
    },
    {
      "cell_type": "markdown",
      "id": "0e992714-f1b7-4305-891d-e964368fa144",
      "metadata": {
        "id": "0e992714-f1b7-4305-891d-e964368fa144"
      },
      "source": [
        "### Exercise 1\n",
        "<div class=\"alert-success\">\n",
        "\n",
        "You will make two maps:\n",
        "1. Plot your country as the background. Use **cx** to plot some **points** (the cities, airports, etc.) below the centroid.\n",
        "2. Plot your country as the background. Select with **cx** all the first administrative divisions above the centroid. Then, use clip to show some **lines** (rivers, railroads, etc) that cross those divisions.\n",
        "    \n",
        "</div>"
      ]
    },
    {
      "cell_type": "markdown",
      "id": "f4045360",
      "metadata": {
        "id": "f4045360"
      },
      "source": [
        "[TOC](#0)\n",
        "\n",
        "_____________\n",
        "\n",
        "\n",
        "<a class=\"anchor\" id=\"3\"></a>\n",
        "\n",
        "# Combining GeoDF rows\n",
        "\n",
        "Let me bring the projected data from Brazil."
      ]
    },
    {
      "cell_type": "code",
      "execution_count": null,
      "id": "32827eb6-2450-4210-bec0-c45032769605",
      "metadata": {
        "id": "32827eb6-2450-4210-bec0-c45032769605"
      },
      "outputs": [],
      "source": [
        "LinkBrazil=\"https://github.com/CienciaDeDatosEspacial/intro_geodataframe/raw/refs/heads/main/maps/brazilMaps_5641.gpkg\"\n",
        "## we have\n",
        "listlayers(LinkBrazil)"
      ]
    },
    {
      "cell_type": "markdown",
      "id": "099c9940-1d68-4524-8494-91236904510e",
      "metadata": {
        "id": "099c9940-1d68-4524-8494-91236904510e"
      },
      "source": [
        "Let me open municipalities:"
      ]
    },
    {
      "cell_type": "code",
      "execution_count": null,
      "id": "ff834b0d-e7e8-434f-a293-7c3ca2e3490a",
      "metadata": {
        "id": "ff834b0d-e7e8-434f-a293-7c3ca2e3490a"
      },
      "outputs": [],
      "source": [
        "brazil_municipalities=gpd.read_file(LinkBrazil,layer='municipalities')\n",
        "brazil_municipalities.plot(facecolor='lightgrey', edgecolor='black',linewidth=0.2)"
      ]
    },
    {
      "cell_type": "code",
      "execution_count": null,
      "id": "a732d195-b51f-4bf7-8b9c-daaf8a49c0a3",
      "metadata": {
        "id": "a732d195-b51f-4bf7-8b9c-daaf8a49c0a3"
      },
      "outputs": [],
      "source": [
        "#see\n",
        "brazil_municipalities.head()"
      ]
    },
    {
      "cell_type": "code",
      "execution_count": null,
      "id": "05e89ed8-5095-46b6-a59f-c0248047fdcf",
      "metadata": {
        "id": "05e89ed8-5095-46b6-a59f-c0248047fdcf"
      },
      "outputs": [],
      "source": [
        "## we have\n",
        "len(brazil_municipalities.ADM2_PT)"
      ]
    },
    {
      "cell_type": "code",
      "execution_count": null,
      "id": "edc01a89-ae84-405d-82e8-0ba1da113a00",
      "metadata": {
        "id": "edc01a89-ae84-405d-82e8-0ba1da113a00"
      },
      "outputs": [],
      "source": [
        "# higher level count\n",
        "len(set(brazil_municipalities.ADM1_PT))"
      ]
    },
    {
      "cell_type": "markdown",
      "id": "1d0ca18b-4d56-4a5f-9575-755e278582c2",
      "metadata": {
        "id": "1d0ca18b-4d56-4a5f-9575-755e278582c2"
      },
      "source": [
        "Then, this is Minas Gerais:"
      ]
    },
    {
      "cell_type": "code",
      "execution_count": null,
      "id": "e2954e50-2d6f-4583-a2c0-3e5aaeb20b44",
      "metadata": {
        "id": "e2954e50-2d6f-4583-a2c0-3e5aaeb20b44"
      },
      "outputs": [],
      "source": [
        "brazil_municipalities[brazil_municipalities.ADM1_PT=='Minas Gerais'].plot()"
      ]
    },
    {
      "cell_type": "markdown",
      "id": "e0ec0e20-de35-444b-9b20-daff26825402",
      "metadata": {
        "id": "e0ec0e20-de35-444b-9b20-daff26825402"
      },
      "source": [
        "Let's see the options to combine:"
      ]
    },
    {
      "cell_type": "markdown",
      "id": "97eadc14-d617-4345-ad89-1eb2b786d31f",
      "metadata": {
        "id": "97eadc14-d617-4345-ad89-1eb2b786d31f"
      },
      "source": [
        "## Unary UNION\n",
        "\n",
        "We can combine all these polygons into one:"
      ]
    },
    {
      "cell_type": "code",
      "execution_count": null,
      "id": "9ab5b1b4",
      "metadata": {
        "id": "9ab5b1b4"
      },
      "outputs": [],
      "source": [
        "pip show shapely"
      ]
    },
    {
      "cell_type": "code",
      "execution_count": null,
      "id": "c00c048b-6faa-4ad6-8cf7-0f98769e17f2",
      "metadata": {
        "id": "c00c048b-6faa-4ad6-8cf7-0f98769e17f2"
      },
      "outputs": [],
      "source": [
        "brazil_municipalities[brazil_municipalities.ADM1_PT=='Minas Gerais'].union_all()"
      ]
    },
    {
      "cell_type": "markdown",
      "id": "9d3fcffd-e552-4bea-9da3-b39745de4c36",
      "metadata": {
        "id": "9d3fcffd-e552-4bea-9da3-b39745de4c36"
      },
      "source": [
        "Let's save that result:"
      ]
    },
    {
      "cell_type": "code",
      "execution_count": null,
      "id": "ce5d4b07-7f14-4dc7-8031-5c12ee2c8a92",
      "metadata": {
        "id": "ce5d4b07-7f14-4dc7-8031-5c12ee2c8a92"
      },
      "outputs": [],
      "source": [
        "MinasGerais_union=brazil_municipalities[brazil_municipalities.ADM1_PT=='Minas Gerais'].union_all()"
      ]
    },
    {
      "cell_type": "code",
      "execution_count": null,
      "id": "d71ea52f-6738-4d8b-93fb-6e6bfdd7ed21",
      "metadata": {
        "id": "d71ea52f-6738-4d8b-93fb-6e6bfdd7ed21"
      },
      "outputs": [],
      "source": [
        "# what do we have?\n",
        "type(MinasGerais_union)"
      ]
    },
    {
      "cell_type": "markdown",
      "id": "97f5eeba-ee4f-4a46-b8ac-9645f7e59766",
      "metadata": {
        "id": "97f5eeba-ee4f-4a46-b8ac-9645f7e59766"
      },
      "source": [
        "You can turn that shapely object into a GeoDF like this:"
      ]
    },
    {
      "cell_type": "code",
      "execution_count": null,
      "id": "52d84f0d-bd43-4008-b3ac-c807e7dbafc5",
      "metadata": {
        "id": "52d84f0d-bd43-4008-b3ac-c807e7dbafc5"
      },
      "outputs": [],
      "source": [
        "gpd.GeoDataFrame(index=[0],data={'ADM':'Minas Gerais'},\n",
        "                 crs=brazil_municipalities.crs,\n",
        "                 geometry=[MinasGerais_union])"
      ]
    },
    {
      "cell_type": "markdown",
      "id": "b1dee927-70dd-48e8-82b7-a04a2fa8fe3c",
      "metadata": {
        "id": "b1dee927-70dd-48e8-82b7-a04a2fa8fe3c"
      },
      "source": [
        "<a class=\"anchor\" id=\"21\"></a>\n",
        "\n",
        "## Dissolve\n",
        "\n",
        "### a. Dissolve as Union\n",
        "Using  **dissolve** is an alternative to _UNION_:"
      ]
    },
    {
      "cell_type": "code",
      "execution_count": null,
      "id": "c5768952-7e24-43ad-901e-9a7fadc3fc2c",
      "metadata": {
        "id": "c5768952-7e24-43ad-901e-9a7fadc3fc2c"
      },
      "outputs": [],
      "source": [
        "brazil_municipalities[brazil_municipalities.ADM1_PT=='Minas Gerais'].dissolve().plot()"
      ]
    },
    {
      "cell_type": "markdown",
      "id": "351fbf6a-7e61-467e-ab1c-15c7544a4632",
      "metadata": {
        "id": "351fbf6a-7e61-467e-ab1c-15c7544a4632"
      },
      "source": [
        "Let me save the result, and see the type :"
      ]
    },
    {
      "cell_type": "code",
      "execution_count": null,
      "id": "672d051e-772e-4310-86f6-8fcfca6ed287",
      "metadata": {
        "id": "672d051e-772e-4310-86f6-8fcfca6ed287"
      },
      "outputs": [],
      "source": [
        "MinasGerais_dissolve=brazil_municipalities[brazil_municipalities.ADM1_PT=='Minas Gerais'].dissolve()\n",
        "\n",
        "# we got?\n",
        "type(MinasGerais_dissolve)"
      ]
    },
    {
      "cell_type": "markdown",
      "id": "2fc5778d-ef46-46dd-bd3e-eaba9f668e03",
      "metadata": {
        "id": "2fc5778d-ef46-46dd-bd3e-eaba9f668e03"
      },
      "source": [
        "You got a GEOdf this time:"
      ]
    },
    {
      "cell_type": "code",
      "execution_count": null,
      "id": "c3f3d552-060c-41f2-bbe5-debf1de6a496",
      "metadata": {
        "id": "c3f3d552-060c-41f2-bbe5-debf1de6a496"
      },
      "outputs": [],
      "source": [
        "## see\n",
        "MinasGerais_dissolve"
      ]
    },
    {
      "cell_type": "code",
      "execution_count": null,
      "id": "95b21cb3-db50-48f1-a354-ce2b23e9b247",
      "metadata": {
        "id": "95b21cb3-db50-48f1-a354-ce2b23e9b247"
      },
      "outputs": [],
      "source": [
        "# keeping what is relevant\n",
        "MinasGerais_dissolve.drop(columns=['ADM2_PT','ADM2_PCODE','ET_ID'],inplace=True)\n",
        "\n",
        "# then\n",
        "MinasGerais_dissolve"
      ]
    },
    {
      "cell_type": "markdown",
      "id": "9321a5df-3274-4696-9278-6141e3218930",
      "metadata": {
        "id": "9321a5df-3274-4696-9278-6141e3218930"
      },
      "source": [
        "### b. Dissolve for groups\n",
        "\n",
        "Using _dissolve()_ with no arguments returns the union of the polygons, BUT also you get a GEOdf.\n",
        "However, if you have a column that represents a grouping (as we do), you can dissolve by that column:"
      ]
    },
    {
      "cell_type": "code",
      "execution_count": null,
      "id": "8b02371a-f65e-46e5-b0d2-e88d21825cd2",
      "metadata": {
        "id": "8b02371a-f65e-46e5-b0d2-e88d21825cd2"
      },
      "outputs": [],
      "source": [
        "# dissolving\n",
        "brazil_municipalities.dissolve(by='ADM1_PT').plot(facecolor='yellow', edgecolor='black',linewidth=0.2)"
      ]
    },
    {
      "cell_type": "markdown",
      "id": "ade71f08-90cb-4a1c-977a-4f5ac846f2d9",
      "metadata": {
        "id": "ade71f08-90cb-4a1c-977a-4f5ac846f2d9"
      },
      "source": [
        "Again, let me save this result:"
      ]
    },
    {
      "cell_type": "code",
      "execution_count": null,
      "id": "1a36080b-9326-4584-9190-fa1718e03f0d",
      "metadata": {
        "id": "1a36080b-9326-4584-9190-fa1718e03f0d"
      },
      "outputs": [],
      "source": [
        "Brazil_adm1_diss=brazil_municipalities.dissolve(by='ADM1_PT')"
      ]
    },
    {
      "cell_type": "markdown",
      "id": "4d1de91b-7ad7-44f5-a9cb-410dbf53656c",
      "metadata": {
        "id": "4d1de91b-7ad7-44f5-a9cb-410dbf53656c"
      },
      "source": [
        "We know we have a GeoDF; let's see contents:"
      ]
    },
    {
      "cell_type": "code",
      "execution_count": null,
      "id": "ef8b7fbb-7b5b-4624-ae40-e7aed7d4bdf6",
      "metadata": {
        "id": "ef8b7fbb-7b5b-4624-ae40-e7aed7d4bdf6"
      },
      "outputs": [],
      "source": [
        "Brazil_adm1_diss"
      ]
    },
    {
      "cell_type": "markdown",
      "id": "48b1ddda-4b45-489c-97b8-3260a2f75459",
      "metadata": {
        "id": "48b1ddda-4b45-489c-97b8-3260a2f75459"
      },
      "source": [
        "Again, we can drop columns that do not bring important information:"
      ]
    },
    {
      "cell_type": "code",
      "execution_count": null,
      "id": "bebf8290-4334-4b1f-8818-0f0db44799be",
      "metadata": {
        "id": "bebf8290-4334-4b1f-8818-0f0db44799be"
      },
      "outputs": [],
      "source": [
        "Brazil_adm1_diss.drop(columns=['ADM2_PT','ADM2_PCODE','ET_ID'],inplace=True)\n",
        "Brazil_adm1_diss.reset_index(inplace=True)\n",
        "Brazil_adm1_diss.info()"
      ]
    },
    {
      "cell_type": "markdown",
      "id": "8ce4da9c-0e99-4e00-aabb-5a291d7a935d",
      "metadata": {
        "id": "8ce4da9c-0e99-4e00-aabb-5a291d7a935d"
      },
      "source": [
        "### c. Dissolve and aggregate\n",
        "\n",
        "In pandas, you have can aggregate data using some statistics. Dissolve can be used in the same way. Let me use the _indicators_ layer:"
      ]
    },
    {
      "cell_type": "code",
      "execution_count": null,
      "id": "f842ce68-8353-4af7-9ed9-5e1a8e856f39",
      "metadata": {
        "id": "f842ce68-8353-4af7-9ed9-5e1a8e856f39"
      },
      "outputs": [],
      "source": [
        "indicators.head()"
      ]
    },
    {
      "cell_type": "markdown",
      "id": "88614604-ef84-49c0-aaf4-4dc4858ae8e0",
      "metadata": {
        "id": "88614604-ef84-49c0-aaf4-4dc4858ae8e0"
      },
      "source": [
        "We have numerical columns, and a grouping column named _region_. Let's get some averages by region, while combining the polygons:"
      ]
    },
    {
      "cell_type": "code",
      "execution_count": null,
      "id": "abc8cfa8-6a02-4dd2-af74-07f1bbbf0191",
      "metadata": {
        "id": "abc8cfa8-6a02-4dd2-af74-07f1bbbf0191"
      },
      "outputs": [],
      "source": [
        "indicators.dissolve(\n",
        "     by=\"region\",\n",
        "     aggfunc={\n",
        "         \"COUNTRY\": \"count\",\n",
        "         \"fragility\": [\"mean\"],\n",
        "         \"co2\": [\"mean\"],\n",
        "         \"ForestRev_gdp\": [\"mean\"]\n",
        "     },as_index=False,\n",
        " )"
      ]
    },
    {
      "cell_type": "markdown",
      "id": "72648464-821b-47b1-87a9-f21260ee06d6",
      "metadata": {
        "id": "72648464-821b-47b1-87a9-f21260ee06d6"
      },
      "source": [
        "Let me save and plot:"
      ]
    },
    {
      "cell_type": "code",
      "execution_count": null,
      "id": "794f3048-257d-4193-89d0-deda71523b9c",
      "metadata": {
        "id": "794f3048-257d-4193-89d0-deda71523b9c"
      },
      "outputs": [],
      "source": [
        "indicatorsByRegion=indicators.dissolve(\n",
        "     by=\"region\",\n",
        "     aggfunc={\n",
        "         \"COUNTRY\": \"count\",\n",
        "         \"fragility\": [\"mean\"],\n",
        "         \"co2\": [\"mean\"],\n",
        "         \"ForestRev_gdp\": [\"mean\"]\n",
        "     },as_index=False,\n",
        " )\n",
        "\n",
        "\n",
        "indicatorsByRegion.plot(column = 'region')"
      ]
    },
    {
      "cell_type": "markdown",
      "id": "ce73aadb-aaad-458f-abf1-dc24be193949",
      "metadata": {
        "id": "ce73aadb-aaad-458f-abf1-dc24be193949"
      },
      "source": [
        "Without renaming, you can request a choropleth:"
      ]
    },
    {
      "cell_type": "code",
      "execution_count": null,
      "id": "509d432c-35bb-48c2-9365-02b6aa6227ee",
      "metadata": {
        "id": "509d432c-35bb-48c2-9365-02b6aa6227ee"
      },
      "outputs": [],
      "source": [
        "indicatorsByRegion.plot(column =('fragility', 'mean'),scheme='quantiles', cmap='OrRd',\n",
        "                        legend=True,\n",
        "                        legend_kwds={\"title\": \"Fragility\",'loc': 'lower left'},\n",
        "                        edgecolor='black',linewidth=0.2,\n",
        "                        figsize=(15, 10))"
      ]
    },
    {
      "cell_type": "markdown",
      "id": "0ac51cc2",
      "metadata": {
        "id": "0ac51cc2"
      },
      "source": [
        "## Exercise 2\n",
        "\n",
        "\n",
        "<div class=\"alert-success\">\n",
        "\n",
        "1. Create some subset of polygons with your country data at the municipal (or similar level). Use Unary UNION with those  polygons, and create a geoDF with the result.\n",
        "2. Dissolve your municipalities by another higher level administrative level. Plot the result.\n",
        "3. If possible, color some areas of your country by aggregating; if not, plot the \"median\" values in the _indicators_ map.\n",
        "    \n",
        "</div>"
      ]
    },
    {
      "cell_type": "markdown",
      "id": "29bdb1b3",
      "metadata": {
        "id": "29bdb1b3"
      },
      "source": [
        "[TOC](#0)\n",
        "_____________\n",
        "\n",
        "\n",
        "<a class=\"anchor\" id=\"4\"></a>\n",
        "\n",
        "# The convex hull\n",
        "\n",
        "Some time you may have the need to create a polygon that serves as an envelope to a set of points.\n",
        "\n",
        "For this example, let me compute the centroid coordinates:"
      ]
    },
    {
      "cell_type": "code",
      "execution_count": null,
      "id": "e05a431e-bfd6-4622-851d-66535cc0dcbe",
      "metadata": {
        "id": "e05a431e-bfd6-4622-851d-66535cc0dcbe"
      },
      "outputs": [],
      "source": [
        "brazil_5641=gpd.read_file(LinkBrazil,layer='country')\n",
        "brazil_5641.centroid"
      ]
    },
    {
      "cell_type": "code",
      "execution_count": null,
      "id": "1ee85d85-1033-40a3-95ae-624bdffea30e",
      "metadata": {
        "id": "1ee85d85-1033-40a3-95ae-624bdffea30e"
      },
      "outputs": [],
      "source": [
        "# then\n",
        "brazil_5641.centroid.x.values[0],brazil_5641.centroid.y.values[0]"
      ]
    },
    {
      "cell_type": "markdown",
      "id": "0b565daa-4e4e-4901-a1c0-51cc0545a48e",
      "metadata": {
        "id": "0b565daa-4e4e-4901-a1c0-51cc0545a48e"
      },
      "source": [
        "Let me open the airports:"
      ]
    },
    {
      "cell_type": "code",
      "execution_count": null,
      "id": "eb203997-8c36-4a17-a5a7-f80ccd3ad0e7",
      "metadata": {
        "id": "eb203997-8c36-4a17-a5a7-f80ccd3ad0e7"
      },
      "outputs": [],
      "source": [
        "airports_5641=gpd.read_file(LinkBrazil,layer='airports')\n",
        "airports_5641.head()"
      ]
    },
    {
      "cell_type": "markdown",
      "id": "36dd3b3a-6ac1-4ef1-a5ab-43de7baff144",
      "metadata": {
        "id": "36dd3b3a-6ac1-4ef1-a5ab-43de7baff144"
      },
      "source": [
        "Now, let me plot some airports, using the centroid:"
      ]
    },
    {
      "cell_type": "code",
      "execution_count": null,
      "id": "10d1d989",
      "metadata": {
        "id": "10d1d989"
      },
      "outputs": [],
      "source": [
        "# coordinates\n",
        "centroidX,centroidY=brazil_5641.centroid.x.values[0],brazil_5641.centroid.y.values[0]\n",
        "\n",
        "# subsets of medium airports\n",
        "Brazil_AirTopLeft=airports_5641[airports_5641.kind=='medium_airport'].cx[:centroidX,centroidY:]\n",
        "Brazil_AirTopRight=airports_5641[airports_5641.kind=='medium_airport'].cx[centroidX:,centroidY:]\n",
        "Brazil_AirBottomLeft=airports_5641[airports_5641.kind=='medium_airport'].cx[:centroidX,:centroidY]\n",
        "Brazil_AirBottomRight=airports_5641[airports_5641.kind=='medium_airport'].cx[centroidX:,:centroidY]"
      ]
    },
    {
      "cell_type": "markdown",
      "id": "791300a1-b45f-4f35-b7bf-8b4011a2af71",
      "metadata": {
        "id": "791300a1-b45f-4f35-b7bf-8b4011a2af71"
      },
      "source": [
        "Let me plot the subsets:"
      ]
    },
    {
      "cell_type": "code",
      "execution_count": null,
      "id": "cbc423fd",
      "metadata": {
        "id": "cbc423fd"
      },
      "outputs": [],
      "source": [
        "base=Brazil_AirTopLeft.plot(facecolor='grey', alpha=0.4)\n",
        "Brazil_AirTopRight.plot(ax=base,facecolor='orange', alpha=0.4)\n",
        "Brazil_AirBottomLeft.plot(ax=base,facecolor='green', alpha=0.4)\n",
        "Brazil_AirBottomRight.plot(ax=base,facecolor='red', alpha=0.4)"
      ]
    },
    {
      "cell_type": "markdown",
      "id": "cbfa5551-87ae-4b98-92fb-fbb08afab7fd",
      "metadata": {
        "id": "cbfa5551-87ae-4b98-92fb-fbb08afab7fd"
      },
      "source": [
        "Notice we have simple points in each subset:"
      ]
    },
    {
      "cell_type": "code",
      "execution_count": null,
      "id": "9edfce2c-6fb1-4e7d-83e2-289572a004d3",
      "metadata": {
        "id": "9edfce2c-6fb1-4e7d-83e2-289572a004d3"
      },
      "outputs": [],
      "source": [
        "Brazil_AirBottomLeft"
      ]
    },
    {
      "cell_type": "markdown",
      "id": "551f294a-15f2-4d59-8d39-a6c3f4bc78a5",
      "metadata": {
        "id": "551f294a-15f2-4d59-8d39-a6c3f4bc78a5"
      },
      "source": [
        "In this situation, you can NOT make a _convex hull_:"
      ]
    },
    {
      "cell_type": "code",
      "execution_count": null,
      "id": "83742721-0143-4ea3-90bf-d881e0d49625",
      "metadata": {
        "id": "83742721-0143-4ea3-90bf-d881e0d49625"
      },
      "outputs": [],
      "source": [
        "Brazil_AirBottomLeft.convex_hull.plot()"
      ]
    },
    {
      "cell_type": "markdown",
      "id": "95a53c9f-cdf5-47ce-a4d3-8f90ef2311db",
      "metadata": {
        "id": "95a53c9f-cdf5-47ce-a4d3-8f90ef2311db"
      },
      "source": [
        "You first need to **dissolve**, and then you create a hull, an envelope of  convex angles:"
      ]
    },
    {
      "cell_type": "code",
      "execution_count": null,
      "id": "026b2289",
      "metadata": {
        "id": "026b2289"
      },
      "outputs": [],
      "source": [
        "Brazil_AirBottomLeft.dissolve().convex_hull.plot()"
      ]
    },
    {
      "cell_type": "markdown",
      "id": "a4615ea0-73d3-407e-8331-b3ce8fff87af",
      "metadata": {
        "id": "a4615ea0-73d3-407e-8331-b3ce8fff87af"
      },
      "source": [
        "As we saw, the convex hull is a polygon:"
      ]
    },
    {
      "cell_type": "code",
      "execution_count": null,
      "id": "46326bc8-79c7-4804-8289-4abef9fad8c4",
      "metadata": {
        "id": "46326bc8-79c7-4804-8289-4abef9fad8c4"
      },
      "outputs": [],
      "source": [
        "Brazil_AirBottomLeft.dissolve().convex_hull"
      ]
    },
    {
      "cell_type": "markdown",
      "id": "83219eda-90dc-477d-b566-c23c27e470e0",
      "metadata": {
        "id": "83219eda-90dc-477d-b566-c23c27e470e0"
      },
      "source": [
        "What if we the polygons had not been previously combined?"
      ]
    },
    {
      "cell_type": "code",
      "execution_count": null,
      "id": "1a327e0f-4f9d-49d2-bfaa-521ff54a915c",
      "metadata": {
        "id": "1a327e0f-4f9d-49d2-bfaa-521ff54a915c"
      },
      "outputs": [],
      "source": [
        "brazil_municipalities.cx[:centroidX,:centroidY].convex_hull.plot(edgecolor='red')"
      ]
    },
    {
      "cell_type": "markdown",
      "id": "d908fc2f",
      "metadata": {
        "id": "d908fc2f"
      },
      "source": [
        "That is, you get a convex hull for each geometry.\n",
        "\n",
        "We can also use _union_ before creating a convex hull:"
      ]
    },
    {
      "cell_type": "code",
      "execution_count": null,
      "id": "2649d471",
      "metadata": {
        "id": "2649d471"
      },
      "outputs": [],
      "source": [
        "# just the union\n",
        "large_airport=airports_5641[airports_5641.kind=='large_airport']\n",
        "large_airport.union_all()"
      ]
    },
    {
      "cell_type": "code",
      "execution_count": null,
      "id": "ce05689b-acde-4373-8b60-51ca6bc19c5b",
      "metadata": {
        "id": "ce05689b-acde-4373-8b60-51ca6bc19c5b"
      },
      "outputs": [],
      "source": [
        "# hull of the union\n",
        "large_airport.union_all().convex_hull"
      ]
    },
    {
      "cell_type": "markdown",
      "id": "46a0e7b3",
      "metadata": {
        "id": "46a0e7b3"
      },
      "source": [
        "Let's turn the GS into a GDF:"
      ]
    },
    {
      "cell_type": "code",
      "execution_count": null,
      "id": "14037793-1df7-4dfa-8438-7dc7734580fe",
      "metadata": {
        "id": "14037793-1df7-4dfa-8438-7dc7734580fe"
      },
      "outputs": [],
      "source": [
        "LargeAirport_hull= gpd.GeoDataFrame(index=[0],\n",
        "                                    crs=large_airport.crs,\n",
        "                                    geometry=[large_airport.union_all().convex_hull])\n",
        "LargeAirport_hull['name']='large airports hull' # optional\n",
        "\n",
        "# then\n",
        "\n",
        "LargeAirport_hull"
      ]
    },
    {
      "cell_type": "markdown",
      "id": "c67c1b31",
      "metadata": {
        "id": "c67c1b31"
      },
      "source": [
        "Let's use the GDF in plotting:"
      ]
    },
    {
      "cell_type": "code",
      "execution_count": null,
      "id": "e73b691b",
      "metadata": {
        "id": "e73b691b"
      },
      "outputs": [],
      "source": [
        "base=brazil_5641.plot(facecolor='yellow')\n",
        "large_airport.plot(ax=base)\n",
        "LargeAirport_hull.plot(ax=base,facecolor='green',\n",
        "                       edgecolor='white',alpha=0.4,\n",
        "                       hatch='X')"
      ]
    },
    {
      "cell_type": "markdown",
      "id": "b0d78b91",
      "metadata": {
        "id": "b0d78b91"
      },
      "source": [
        "### Exercise 3\n",
        "\n",
        "<div class=\"alert-success\">\n",
        "\n",
        "1. Select some points from your maps.\n",
        "    \n",
        "2. Create the convex hull for those points.\n",
        "    \n",
        "3. Turn the hull into a GDF.\n",
        "    \n",
        "4. Plot the hull on top of the country.\n",
        "    \n",
        "</div>"
      ]
    },
    {
      "cell_type": "markdown",
      "id": "6852f4a7-24bb-4540-9324-bf9f67c54637",
      "metadata": {
        "id": "6852f4a7-24bb-4540-9324-bf9f67c54637"
      },
      "source": [
        "[TOC](#0)\n",
        "_____________\n",
        "\n",
        "<a class=\"anchor\" id=\"5\"></a>\n",
        "# Spatial Overlay\n",
        "\n",
        "We might need to create or find some geometries from the geometries we already have. Using a set theory approach, we will se the use of _intersection_, _union_, _difference_, and _symmetric difference_.\n",
        "\n",
        "Let me create this GeoDFs:"
      ]
    },
    {
      "cell_type": "code",
      "execution_count": null,
      "id": "b3a47ad4-44ab-4bfb-be52-f86e40d402bf",
      "metadata": {
        "id": "b3a47ad4-44ab-4bfb-be52-f86e40d402bf"
      },
      "outputs": [],
      "source": [
        "# the north\n",
        "MunisN_brazil=brazil_municipalities.cx[:,centroidY:]\n",
        "# the south\n",
        "MunisS_brazil=brazil_municipalities.cx[:,:centroidY]\n",
        "# the west\n",
        "MunisW_brazil=brazil_municipalities.cx[:centroidX,:]\n",
        "# the east\n",
        "MunisE_brazil=brazil_municipalities.cx[centroidX:,:]"
      ]
    },
    {
      "cell_type": "markdown",
      "id": "ffe06cd8-163f-4a45-859d-20d24b56ae74",
      "metadata": {
        "id": "ffe06cd8-163f-4a45-859d-20d24b56ae74"
      },
      "source": [
        "Let me plot:"
      ]
    },
    {
      "cell_type": "code",
      "execution_count": null,
      "id": "7a5a27d5-7117-43a5-bf61-6542de99e280",
      "metadata": {
        "id": "7a5a27d5-7117-43a5-bf61-6542de99e280"
      },
      "outputs": [],
      "source": [
        "base=MunisN_brazil.plot(facecolor='yellow', edgecolor='black',linewidth=0.2, alpha=0.6)\n",
        "MunisS_brazil.plot(facecolor='grey', edgecolor='black',linewidth=0.2,ax=base, alpha=0.4)"
      ]
    },
    {
      "cell_type": "code",
      "execution_count": null,
      "id": "1e119335-f1d0-42fb-8c7a-bcd5f0231578",
      "metadata": {
        "id": "1e119335-f1d0-42fb-8c7a-bcd5f0231578"
      },
      "outputs": [],
      "source": [
        "base=MunisE_brazil.plot(facecolor='yellow', edgecolor='black',linewidth=0.2, alpha=0.6)\n",
        "MunisW_brazil.plot(facecolor='grey', edgecolor='black',linewidth=0.2,ax=base, alpha=0.4)"
      ]
    },
    {
      "cell_type": "markdown",
      "id": "b751684b-270f-4b3a-9b7d-d51ae7f2b641",
      "metadata": {
        "id": "b751684b-270f-4b3a-9b7d-d51ae7f2b641"
      },
      "source": [
        "## Intersection\n",
        "\n",
        "We keep what is common between GeoDFs:"
      ]
    },
    {
      "cell_type": "code",
      "execution_count": null,
      "id": "b6517bb9-b20a-46f9-ba77-d8a0f120f97c",
      "metadata": {
        "id": "b6517bb9-b20a-46f9-ba77-d8a0f120f97c"
      },
      "outputs": [],
      "source": [
        "munisNS_brazil=MunisN_brazil.overlay(MunisS_brazil, how=\"intersection\",keep_geom_type=True)\n",
        "munisNS_brazil.plot()"
      ]
    },
    {
      "cell_type": "code",
      "execution_count": null,
      "id": "a65bd362-ddde-4d7d-98c7-151d7a1d1b0b",
      "metadata": {
        "id": "a65bd362-ddde-4d7d-98c7-151d7a1d1b0b"
      },
      "outputs": [],
      "source": [
        "# keeping the overlay\n",
        "munisWE_brazil=MunisW_brazil.overlay(MunisE_brazil, how=\"intersection\",keep_geom_type=True)\n",
        "munisWE_brazil.plot(edgecolor='white',linewidth=0.1)"
      ]
    },
    {
      "cell_type": "markdown",
      "id": "ec14306e-6c6e-4759-88e0-66a02b4294ec",
      "metadata": {
        "id": "ec14306e-6c6e-4759-88e0-66a02b4294ec"
      },
      "source": [
        "## Union\n",
        "\n",
        "Let me unite any polygons that touche each other. First, take a look at each one:"
      ]
    },
    {
      "cell_type": "code",
      "execution_count": null,
      "id": "4bbcc6ab-975e-4e47-8a07-9ad723c68368",
      "metadata": {
        "id": "4bbcc6ab-975e-4e47-8a07-9ad723c68368"
      },
      "outputs": [],
      "source": [
        "munisNS_brazil.info()"
      ]
    },
    {
      "cell_type": "code",
      "execution_count": null,
      "id": "c69c559c-987a-4335-b18c-bc9e0f9fea2b",
      "metadata": {
        "id": "c69c559c-987a-4335-b18c-bc9e0f9fea2b"
      },
      "outputs": [],
      "source": [
        "munisWE_brazil.info()"
      ]
    },
    {
      "cell_type": "markdown",
      "id": "a0ecfadb-7711-41fc-b225-a538324f09bb",
      "metadata": {
        "id": "a0ecfadb-7711-41fc-b225-a538324f09bb"
      },
      "source": [
        "Let me subset and show you:"
      ]
    },
    {
      "cell_type": "code",
      "execution_count": null,
      "id": "f8348693-7e68-49ca-b752-8a80178097d6",
      "metadata": {
        "id": "f8348693-7e68-49ca-b752-8a80178097d6"
      },
      "outputs": [],
      "source": [
        "keep=['ADM0_EN_1','ADM1_PT_1','ADM2_PT_1','geometry']\n",
        "munisNS_brazil=munisNS_brazil.loc[:,keep]\n",
        "munisWE_brazil=munisWE_brazil.loc[:,keep]"
      ]
    },
    {
      "cell_type": "code",
      "execution_count": null,
      "id": "5dfab57c-04e5-468d-b60a-0cc82ddeb1de",
      "metadata": {
        "id": "5dfab57c-04e5-468d-b60a-0cc82ddeb1de"
      },
      "outputs": [],
      "source": [
        "# now\n",
        "munisNS_brazil.overlay(munisWE_brazil,how=\"union\",keep_geom_type=True)"
      ]
    },
    {
      "cell_type": "markdown",
      "id": "4630ac7f-d8f5-4f98-b88b-4b3e201cdba3",
      "metadata": {
        "id": "4630ac7f-d8f5-4f98-b88b-4b3e201cdba3"
      },
      "source": [
        "As you see, geometries are fine, but not attributes. It is strictly NOT appending the GeoDFs:"
      ]
    },
    {
      "cell_type": "code",
      "execution_count": null,
      "id": "dd26202c-f697-4635-9596-5eed71dc777d",
      "metadata": {
        "id": "dd26202c-f697-4635-9596-5eed71dc777d"
      },
      "outputs": [],
      "source": [
        "# appending\n",
        "import pandas as pd\n",
        "\n",
        "pd.concat([munisNS_brazil,munisWE_brazil],ignore_index=True)"
      ]
    },
    {
      "cell_type": "markdown",
      "id": "9d264f8c-2d50-4526-8011-e1de5b227694",
      "metadata": {
        "id": "9d264f8c-2d50-4526-8011-e1de5b227694"
      },
      "source": [
        "This are different operations. UNION will combine any geometries that have overlaping portions in common."
      ]
    },
    {
      "cell_type": "code",
      "execution_count": null,
      "id": "f083eed4-13d4-4c84-9ca4-692cc073d276",
      "metadata": {
        "id": "f083eed4-13d4-4c84-9ca4-692cc073d276"
      },
      "outputs": [],
      "source": [
        "munisNS_brazil.overlay(munisWE_brazil, how=\"union\",keep_geom_type=True).dissolve().plot()"
      ]
    },
    {
      "cell_type": "markdown",
      "id": "2741107f-24c9-4dd0-bdd9-910a3666b61d",
      "metadata": {
        "id": "2741107f-24c9-4dd0-bdd9-910a3666b61d"
      },
      "source": [
        "Let me create an object to save the previous result:"
      ]
    },
    {
      "cell_type": "code",
      "execution_count": null,
      "id": "cc7b3bca-13b5-4bae-a431-3a23811f1a73",
      "metadata": {
        "id": "cc7b3bca-13b5-4bae-a431-3a23811f1a73"
      },
      "outputs": [],
      "source": [
        "muniMidBrazil=munisNS_brazil.overlay(munisWE_brazil, how=\"union\",keep_geom_type=True).dissolve()\n",
        "muniMidBrazil"
      ]
    },
    {
      "cell_type": "code",
      "execution_count": null,
      "id": "df9d6897-4e84-4b6b-8a76-398b19985d49",
      "metadata": {
        "id": "df9d6897-4e84-4b6b-8a76-398b19985d49"
      },
      "outputs": [],
      "source": [
        "# some cleaning\n",
        "\n",
        "muniMidBrazil['zone']='middles'\n",
        "muniMidBrazil=muniMidBrazil.loc[:,['ADM0_EN_1_1','zone','geometry']]\n",
        "muniMidBrazil"
      ]
    },
    {
      "cell_type": "markdown",
      "id": "bd80963c-3d9e-4708-af62-6d19149a6a4b",
      "metadata": {
        "id": "bd80963c-3d9e-4708-af62-6d19149a6a4b"
      },
      "source": [
        "## Difference\n",
        "\n",
        "Here, you keep what belongs to the GeoDF to left that is not in the GeoDF to the right:"
      ]
    },
    {
      "cell_type": "code",
      "execution_count": null,
      "id": "667a9eeb-dadb-4fcf-9c67-23ce0f6da08a",
      "metadata": {
        "id": "667a9eeb-dadb-4fcf-9c67-23ce0f6da08a"
      },
      "outputs": [],
      "source": [
        "# with the municipalities\n",
        "brazil_municipalities.overlay(muniMidBrazil, how='difference').plot()"
      ]
    },
    {
      "cell_type": "markdown",
      "id": "8170b033-0707-43e8-b4ee-dca39e46f17a",
      "metadata": {
        "id": "8170b033-0707-43e8-b4ee-dca39e46f17a"
      },
      "source": [
        "## Symmetric Difference"
      ]
    },
    {
      "cell_type": "markdown",
      "id": "5f2728ec-f142-47a9-8de2-a65fef18680f",
      "metadata": {
        "id": "5f2728ec-f142-47a9-8de2-a65fef18680f"
      },
      "source": [
        "This is the opposite to *intersection*, you keep what is not in the intersection:"
      ]
    },
    {
      "cell_type": "code",
      "execution_count": null,
      "id": "1a3e81f0-3f80-4a88-98c7-5f6611c50cfe",
      "metadata": {
        "id": "1a3e81f0-3f80-4a88-98c7-5f6611c50cfe"
      },
      "outputs": [],
      "source": [
        "MunisN_brazil.overlay(MunisS_brazil, how=\"symmetric_difference\",keep_geom_type=True).plot()"
      ]
    },
    {
      "cell_type": "code",
      "execution_count": null,
      "id": "a634707c-71d2-4e04-905d-e6cf23fa5cdf",
      "metadata": {
        "id": "a634707c-71d2-4e04-905d-e6cf23fa5cdf"
      },
      "outputs": [],
      "source": [
        "MunisW_brazil.overlay(muniMidBrazil, how=\"symmetric_difference\",keep_geom_type=False).plot()"
      ]
    },
    {
      "cell_type": "markdown",
      "id": "1c7274fc-0397-4f36-aef8-7fab2f6fc65a",
      "metadata": {
        "id": "1c7274fc-0397-4f36-aef8-7fab2f6fc65a"
      },
      "source": [
        "# Exercise 4\n",
        "\n",
        "<div class=\"alert-success\">\n",
        "\n",
        "Apply two spatial overlays to your maps. If possible. If not, try the codes below.\n",
        "\n",
        "        \n",
        "</div>"
      ]
    },
    {
      "cell_type": "markdown",
      "id": "7caa0e58",
      "metadata": {
        "id": "7caa0e58"
      },
      "source": [
        "[TOC](#0)\n",
        "_____________\n",
        "\n",
        "<a class=\"anchor\" id=\"6\"></a>\n",
        "\n",
        "# Validity of Geometry\n",
        "\n",
        "Geometries are created in a way that some issues may appear, especially in (multi) polygons.\n",
        "Let's check if our recent maps on states and municipalities are valid:"
      ]
    },
    {
      "cell_type": "code",
      "execution_count": null,
      "id": "3a27c1ca",
      "metadata": {
        "id": "3a27c1ca"
      },
      "outputs": [],
      "source": [
        "# non valid\n",
        "MunisS_brazil[~MunisS_brazil.is_valid]"
      ]
    },
    {
      "cell_type": "code",
      "execution_count": null,
      "id": "ee29926a",
      "metadata": {
        "id": "ee29926a"
      },
      "outputs": [],
      "source": [
        "# see the invalid:\n",
        "MunisS_brazil[~MunisS_brazil.is_valid].plot()"
      ]
    },
    {
      "cell_type": "markdown",
      "id": "735abaa5",
      "metadata": {
        "id": "735abaa5"
      },
      "source": [
        "It is difficult to see what is wrong. Let's get some information:"
      ]
    },
    {
      "cell_type": "code",
      "execution_count": null,
      "id": "7c6591e0",
      "metadata": {
        "id": "7c6591e0"
      },
      "outputs": [],
      "source": [
        "# what is wrong?\n",
        "\n",
        "from shapely.validation import explain_validity, make_valid\n",
        "\n",
        "explain_validity(MunisS_brazil[~MunisS_brazil.is_valid].geometry)"
      ]
    },
    {
      "cell_type": "code",
      "execution_count": null,
      "id": "6d90a783",
      "metadata": {
        "id": "6d90a783"
      },
      "outputs": [],
      "source": [
        "# varieties?\n",
        "MunisS_brazil['validity']=[x.split('[')[0] for x in MunisS_brazil.geometry.apply(lambda x: explain_validity(x))]\n",
        "MunisS_brazil['validity'].value_counts()"
      ]
    },
    {
      "cell_type": "code",
      "execution_count": null,
      "id": "d69f261b",
      "metadata": {
        "id": "d69f261b"
      },
      "outputs": [],
      "source": [
        "# solving the issue:\n",
        "MunisS_brazil.drop(columns=['validity'],inplace=True)\n",
        "\n",
        "MunisS_brazil_valid=MunisS_brazil.copy()\n",
        "\n",
        "MunisS_brazil_valid['geometry'] = [make_valid(row)  if not row.is_valid else row for row in MunisS_brazil_valid['geometry'] ]\n",
        "#any invalid?\n",
        "MunisS_brazil_valid[~MunisS_brazil_valid.is_valid]"
      ]
    },
    {
      "cell_type": "markdown",
      "id": "cfa45bcf",
      "metadata": {
        "id": "cfa45bcf"
      },
      "source": [
        "The _solution_ we got may help for some advanced techniques, but may also give us some extra trouble. Notice that once geopandas solved the problem, you  have created **collections**:"
      ]
    },
    {
      "cell_type": "code",
      "execution_count": null,
      "id": "c072a9dc-411c-4d7d-a94b-0c2f2de9cf97",
      "metadata": {
        "id": "c072a9dc-411c-4d7d-a94b-0c2f2de9cf97"
      },
      "outputs": [],
      "source": [
        "pd.Series([type(x) for x in MunisS_brazil_valid.geometry]).value_counts()"
      ]
    },
    {
      "cell_type": "markdown",
      "id": "f2345fc4",
      "metadata": {
        "id": "f2345fc4"
      },
      "source": [
        "Let's do the same for the other GDFs:"
      ]
    },
    {
      "cell_type": "code",
      "execution_count": null,
      "id": "09f2a711",
      "metadata": {
        "id": "09f2a711"
      },
      "outputs": [],
      "source": [
        "# solving the issue:\n",
        "\n",
        "MunisN_brazil_valid=MunisN_brazil.copy()\n",
        "MunisE_brazil_valid=MunisE_brazil.copy()\n",
        "MunisW_brazil_valid=MunisW_brazil.copy()\n",
        "\n",
        "MunisN_brazil_valid['geometry'] = [make_valid(row)  if not row.is_valid else row for row in MunisN_brazil_valid['geometry'] ]\n",
        "MunisE_brazil_valid['geometry'] = [make_valid(row)  if not row.is_valid else row for row in MunisE_brazil_valid['geometry'] ]\n",
        "MunisW_brazil_valid['geometry'] = [make_valid(row)  if not row.is_valid else row for row in MunisW_brazil_valid['geometry'] ]\n"
      ]
    },
    {
      "cell_type": "code",
      "execution_count": null,
      "id": "dc37c818",
      "metadata": {
        "id": "dc37c818"
      },
      "outputs": [],
      "source": [
        "MunisN_brazil_valid.overlay(MunisS_brazil_valid, how=\"symmetric_difference\",keep_geom_type=True).plot()"
      ]
    },
    {
      "cell_type": "code",
      "execution_count": null,
      "id": "963a075b",
      "metadata": {
        "id": "963a075b"
      },
      "outputs": [],
      "source": [
        "MunisN_brazil_cleaned = MunisN_brazil_valid.copy()\n",
        "MunisS_brazil_cleaned = MunisS_brazil_valid.copy()\n",
        "MunisE_brazil_cleaned = MunisE_brazil_valid.copy()\n",
        "MunisW_brazil_cleaned = MunisW_brazil_valid.copy()\n",
        "\n",
        "# Apply buffer(0) to potentially fix remaining issues\n",
        "MunisN_brazil_cleaned['geometry'] = MunisN_brazil_cleaned.geometry.buffer(0)\n",
        "MunisS_brazil_cleaned['geometry'] = MunisS_brazil_cleaned.geometry.buffer(0)\n",
        "MunisE_brazil_cleaned['geometry'] = MunisE_brazil_cleaned.geometry.buffer(0)\n",
        "MunisW_brazil_cleaned['geometry'] = MunisW_brazil_cleaned.geometry.buffer(0)"
      ]
    },
    {
      "cell_type": "code",
      "execution_count": null,
      "id": "a1808c4e",
      "metadata": {
        "id": "a1808c4e"
      },
      "outputs": [],
      "source": [
        "# Try the overlay with the cleaned dataframes\n",
        "MunisN_brazil_cleaned.overlay(MunisS_brazil_cleaned, how=\"symmetric_difference\", keep_geom_type=True).plot()"
      ]
    },
    {
      "cell_type": "code",
      "execution_count": null,
      "id": "3dc3c220",
      "metadata": {
        "id": "3dc3c220"
      },
      "outputs": [],
      "source": [
        "MunisE_brazil_cleaned.overlay(MunisW_brazil_cleaned, how=\"symmetric_difference\", keep_geom_type=True).plot()"
      ]
    }
  ],
  "metadata": {
    "anaconda-cloud": {
      "attach-environment": true,
      "summary": "test"
    },
    "colab": {
      "provenance": []
    },
    "hide_input": false,
    "jupytext": {
      "cell_metadata_filter": "-all",
      "notebook_metadata_filter": "-all"
    },
    "kernelspec": {
      "display_name": "Python 3 (ipykernel)",
      "language": "python",
      "name": "python3"
    },
    "language_info": {
      "codemirror_mode": {
        "name": "ipython",
        "version": 3
      },
      "file_extension": ".py",
      "mimetype": "text/x-python",
      "name": "python",
      "nbconvert_exporter": "python",
      "pygments_lexer": "ipython3",
      "version": "3.11.13"
    },
    "toc-autonumbering": false
  },
  "nbformat": 4,
  "nbformat_minor": 5
}